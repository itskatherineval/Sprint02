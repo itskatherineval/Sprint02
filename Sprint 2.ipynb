{
  "metadata": {
    "language_info": {
      "codemirror_mode": {
        "name": "python",
        "version": 3
      },
      "file_extension": ".py",
      "mimetype": "text/x-python",
      "name": "python",
      "nbconvert_exporter": "python",
      "pygments_lexer": "ipython3",
      "version": "3.8"
    },
    "kernelspec": {
      "name": "python",
      "display_name": "Python (Pyodide)",
      "language": "python"
    }
  },
  "nbformat_minor": 4,
  "nbformat": 4,
  "cells": [
    {
      "cell_type": "code",
      "source": "import csv\nwith open ('taxis.csv') as csvfile:\n    csv_reader = csv.reader(csvfile, delimiter=\",\")\n    count = 0\n    count_trips = 0\n    taxi_ids=[]\n    for row in csv_reader:\n        if count == 0:\n            count = count + 1\n            continue\n        if float(row[14]) > 20 and float(row[14]) < 44 and row[15]== \"Credit Card\":\n            if row[1] not in taxi_ids:\n                count_trips = count_trips + 1\n                taxi_ids.append(row[1])\n        print (count_trips)",
      "metadata": {},
      "execution_count": null,
      "outputs": []
    },
    {
      "cell_type": "code",
      "source": "import csv\nwith open ('taxis.csv') as csvfile:\n    csv_reader = csv.reader(csvfile, delimiter=\",\")\n    count = 0\n    count_trips = 0\n    taxi_ids=[]\n    for row in csv_reader:\n        if count == 0:\n            count = count + 1\n            continue\n        if float(row[13]) < 10 and float(row[13]) > 60 and row[15]== \"Cash\":\n            if row[1] not in taxi_ids:\n                count_trips = count_trips + 1\n                taxi_ids.append(row[1])\n        print (count_trips)",
      "metadata": {},
      "execution_count": null,
      "outputs": []
    }
  ]
}